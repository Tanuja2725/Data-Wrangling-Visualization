{
  "nbformat": 4,
  "nbformat_minor": 0,
  "metadata": {
    "colab": {
      "provenance": [],
      "include_colab_link": true
    },
    "kernelspec": {
      "name": "python3",
      "display_name": "Python 3"
    }
  },
  "cells": [
    {
      "cell_type": "markdown",
      "metadata": {
        "id": "view-in-github",
        "colab_type": "text"
      },
      "source": [
        "<a href=\"https://colab.research.google.com/github/Tanuja2725/Visualization/blob/main/Airbnb_NYC.ipynb\" target=\"_parent\"><img src=\"https://colab.research.google.com/assets/colab-badge.svg\" alt=\"Open In Colab\"/></a>"
      ]
    },
    {
      "cell_type": "markdown",
      "metadata": {
        "id": "TKkEI7QOcGSq"
      },
      "source": [
        "# Airbnb Analysis"
      ]
    },
    {
      "cell_type": "markdown",
      "metadata": {
        "id": "_AvBOAhBL1ku"
      },
      "source": [
        "**Starting the Analysis**"
      ]
    },
    {
      "cell_type": "markdown",
      "metadata": {
        "id": "W5EW34q9tl5a"
      },
      "source": [
        "First and foremost, we import all modules that will be used for this analysis. "
      ]
    },
    {
      "cell_type": "code",
      "metadata": {
        "id": "pV1yFTYfS-BI"
      },
      "source": [
        "import pandas as pd\n",
        "import math\n",
        "from scipy import stats\n",
        "import seaborn as sns\n",
        "sns.set()\n",
        "import matplotlib as plt"
      ],
      "execution_count": null,
      "outputs": []
    },
    {
      "cell_type": "markdown",
      "metadata": {
        "id": "e27c7EdFtr-U"
      },
      "source": [
        "We retrieve our data from a repository that we created on Github. The file is a csv\n",
        "so we will need to use the pd.read_csv() method.  "
      ]
    },
    {
      "cell_type": "code",
      "metadata": {
        "id": "3Cuq9VQmUnuw"
      },
      "source": [
        "url ='https://raw.githubusercontent.com/benjaminbellman/Airbnb_NYC/master/AB_NYC_2019.csv'\n",
        "airbnb_df = pd.read_csv(url)\n"
      ],
      "execution_count": null,
      "outputs": []
    },
    {
      "cell_type": "markdown",
      "metadata": {
        "id": "6U6lCh2xt6Fs"
      },
      "source": [
        "We then proceed to inspect the skeleton of our data. \n",
        "We see that there are over 48,895 different rows of data across 16 different columns. "
      ]
    },
    {
      "cell_type": "code",
      "metadata": {
        "id": "AWuRZY5mdGJA",
        "outputId": "ec19d291-25e3-4ad2-ecee-df9e7629f386",
        "colab": {
          "base_uri": "https://localhost:8080/",
          "height": 35
        }
      },
      "source": [
        "airbnb_df.shape"
      ],
      "execution_count": null,
      "outputs": [
        {
          "output_type": "execute_result",
          "data": {
            "text/plain": [
              "(48895, 16)"
            ]
          },
          "metadata": {
            "tags": []
          },
          "execution_count": 4
        }
      ]
    },
    {
      "cell_type": "markdown",
      "metadata": {
        "id": "i1qEFSFHuAML"
      },
      "source": [
        "We then want to inspect our data and see the columns it contains. \n"
      ]
    },
    {
      "cell_type": "code",
      "metadata": {
        "id": "aj_yZ14_dJbx",
        "outputId": "ac1dfc49-ed5e-4970-b113-43094de49685",
        "colab": {
          "base_uri": "https://localhost:8080/",
          "height": 399
        }
      },
      "source": [
        "airbnb_df.info()"
      ],
      "execution_count": null,
      "outputs": [
        {
          "output_type": "stream",
          "text": [
            "<class 'pandas.core.frame.DataFrame'>\n",
            "RangeIndex: 48895 entries, 0 to 48894\n",
            "Data columns (total 16 columns):\n",
            "id                                48895 non-null int64\n",
            "name                              48879 non-null object\n",
            "host_id                           48895 non-null int64\n",
            "host_name                         48874 non-null object\n",
            "neighbourhood_group               48895 non-null object\n",
            "neighbourhood                     48895 non-null object\n",
            "latitude                          48895 non-null float64\n",
            "longitude                         48895 non-null float64\n",
            "room_type                         48895 non-null object\n",
            "price                             48895 non-null int64\n",
            "minimum_nights                    48895 non-null int64\n",
            "number_of_reviews                 48895 non-null int64\n",
            "last_review                       38843 non-null object\n",
            "reviews_per_month                 38843 non-null float64\n",
            "calculated_host_listings_count    48895 non-null int64\n",
            "availability_365                  48895 non-null int64\n",
            "dtypes: float64(3), int64(7), object(6)\n",
            "memory usage: 6.0+ MB\n"
          ],
          "name": "stdout"
        }
      ]
    },
    {
      "cell_type": "markdown",
      "metadata": {
        "id": "iYuHFUNeuFY5"
      },
      "source": [
        "We then want to preview  what this data will look like. Sampled below are the first 10 rows. "
      ]
    },
    {
      "cell_type": "code",
      "metadata": {
        "id": "7WNBAkikCYEu",
        "outputId": "6f63ebd3-9f7a-4a4d-899e-65aae692710f",
        "colab": {
          "base_uri": "https://localhost:8080/",
          "height": 714
        }
      },
      "source": [
        "airbnb_df.head(10)"
      ],
      "execution_count": null,
      "outputs": [
        {
          "output_type": "execute_result",
          "data": {
            "text/html": [
              "<div>\n",
              "<style scoped>\n",
              "    .dataframe tbody tr th:only-of-type {\n",
              "        vertical-align: middle;\n",
              "    }\n",
              "\n",
              "    .dataframe tbody tr th {\n",
              "        vertical-align: top;\n",
              "    }\n",
              "\n",
              "    .dataframe thead th {\n",
              "        text-align: right;\n",
              "    }\n",
              "</style>\n",
              "<table border=\"1\" class=\"dataframe\">\n",
              "  <thead>\n",
              "    <tr style=\"text-align: right;\">\n",
              "      <th></th>\n",
              "      <th>id</th>\n",
              "      <th>name</th>\n",
              "      <th>host_id</th>\n",
              "      <th>host_name</th>\n",
              "      <th>neighbourhood_group</th>\n",
              "      <th>neighbourhood</th>\n",
              "      <th>latitude</th>\n",
              "      <th>longitude</th>\n",
              "      <th>room_type</th>\n",
              "      <th>price</th>\n",
              "      <th>minimum_nights</th>\n",
              "      <th>number_of_reviews</th>\n",
              "      <th>last_review</th>\n",
              "      <th>reviews_per_month</th>\n",
              "      <th>calculated_host_listings_count</th>\n",
              "      <th>availability_365</th>\n",
              "    </tr>\n",
              "  </thead>\n",
              "  <tbody>\n",
              "    <tr>\n",
              "      <th>0</th>\n",
              "      <td>2539</td>\n",
              "      <td>Clean &amp; quiet apt home by the park</td>\n",
              "      <td>2787</td>\n",
              "      <td>John</td>\n",
              "      <td>Brooklyn</td>\n",
              "      <td>Kensington</td>\n",
              "      <td>40.64749</td>\n",
              "      <td>-73.97237</td>\n",
              "      <td>Private room</td>\n",
              "      <td>149</td>\n",
              "      <td>1</td>\n",
              "      <td>9</td>\n",
              "      <td>2018-10-19</td>\n",
              "      <td>0.21</td>\n",
              "      <td>6</td>\n",
              "      <td>365</td>\n",
              "    </tr>\n",
              "    <tr>\n",
              "      <th>1</th>\n",
              "      <td>2595</td>\n",
              "      <td>Skylit Midtown Castle</td>\n",
              "      <td>2845</td>\n",
              "      <td>Jennifer</td>\n",
              "      <td>Manhattan</td>\n",
              "      <td>Midtown</td>\n",
              "      <td>40.75362</td>\n",
              "      <td>-73.98377</td>\n",
              "      <td>Entire home/apt</td>\n",
              "      <td>225</td>\n",
              "      <td>1</td>\n",
              "      <td>45</td>\n",
              "      <td>2019-05-21</td>\n",
              "      <td>0.38</td>\n",
              "      <td>2</td>\n",
              "      <td>355</td>\n",
              "    </tr>\n",
              "    <tr>\n",
              "      <th>2</th>\n",
              "      <td>3647</td>\n",
              "      <td>THE VILLAGE OF HARLEM....NEW YORK !</td>\n",
              "      <td>4632</td>\n",
              "      <td>Elisabeth</td>\n",
              "      <td>Manhattan</td>\n",
              "      <td>Harlem</td>\n",
              "      <td>40.80902</td>\n",
              "      <td>-73.94190</td>\n",
              "      <td>Private room</td>\n",
              "      <td>150</td>\n",
              "      <td>3</td>\n",
              "      <td>0</td>\n",
              "      <td>NaN</td>\n",
              "      <td>NaN</td>\n",
              "      <td>1</td>\n",
              "      <td>365</td>\n",
              "    </tr>\n",
              "    <tr>\n",
              "      <th>3</th>\n",
              "      <td>3831</td>\n",
              "      <td>Cozy Entire Floor of Brownstone</td>\n",
              "      <td>4869</td>\n",
              "      <td>LisaRoxanne</td>\n",
              "      <td>Brooklyn</td>\n",
              "      <td>Clinton Hill</td>\n",
              "      <td>40.68514</td>\n",
              "      <td>-73.95976</td>\n",
              "      <td>Entire home/apt</td>\n",
              "      <td>89</td>\n",
              "      <td>1</td>\n",
              "      <td>270</td>\n",
              "      <td>2019-07-05</td>\n",
              "      <td>4.64</td>\n",
              "      <td>1</td>\n",
              "      <td>194</td>\n",
              "    </tr>\n",
              "    <tr>\n",
              "      <th>4</th>\n",
              "      <td>5022</td>\n",
              "      <td>Entire Apt: Spacious Studio/Loft by central park</td>\n",
              "      <td>7192</td>\n",
              "      <td>Laura</td>\n",
              "      <td>Manhattan</td>\n",
              "      <td>East Harlem</td>\n",
              "      <td>40.79851</td>\n",
              "      <td>-73.94399</td>\n",
              "      <td>Entire home/apt</td>\n",
              "      <td>80</td>\n",
              "      <td>10</td>\n",
              "      <td>9</td>\n",
              "      <td>2018-11-19</td>\n",
              "      <td>0.10</td>\n",
              "      <td>1</td>\n",
              "      <td>0</td>\n",
              "    </tr>\n",
              "    <tr>\n",
              "      <th>5</th>\n",
              "      <td>5099</td>\n",
              "      <td>Large Cozy 1 BR Apartment In Midtown East</td>\n",
              "      <td>7322</td>\n",
              "      <td>Chris</td>\n",
              "      <td>Manhattan</td>\n",
              "      <td>Murray Hill</td>\n",
              "      <td>40.74767</td>\n",
              "      <td>-73.97500</td>\n",
              "      <td>Entire home/apt</td>\n",
              "      <td>200</td>\n",
              "      <td>3</td>\n",
              "      <td>74</td>\n",
              "      <td>2019-06-22</td>\n",
              "      <td>0.59</td>\n",
              "      <td>1</td>\n",
              "      <td>129</td>\n",
              "    </tr>\n",
              "    <tr>\n",
              "      <th>6</th>\n",
              "      <td>5121</td>\n",
              "      <td>BlissArtsSpace!</td>\n",
              "      <td>7356</td>\n",
              "      <td>Garon</td>\n",
              "      <td>Brooklyn</td>\n",
              "      <td>Bedford-Stuyvesant</td>\n",
              "      <td>40.68688</td>\n",
              "      <td>-73.95596</td>\n",
              "      <td>Private room</td>\n",
              "      <td>60</td>\n",
              "      <td>45</td>\n",
              "      <td>49</td>\n",
              "      <td>2017-10-05</td>\n",
              "      <td>0.40</td>\n",
              "      <td>1</td>\n",
              "      <td>0</td>\n",
              "    </tr>\n",
              "    <tr>\n",
              "      <th>7</th>\n",
              "      <td>5178</td>\n",
              "      <td>Large Furnished Room Near B'way</td>\n",
              "      <td>8967</td>\n",
              "      <td>Shunichi</td>\n",
              "      <td>Manhattan</td>\n",
              "      <td>Hell's Kitchen</td>\n",
              "      <td>40.76489</td>\n",
              "      <td>-73.98493</td>\n",
              "      <td>Private room</td>\n",
              "      <td>79</td>\n",
              "      <td>2</td>\n",
              "      <td>430</td>\n",
              "      <td>2019-06-24</td>\n",
              "      <td>3.47</td>\n",
              "      <td>1</td>\n",
              "      <td>220</td>\n",
              "    </tr>\n",
              "    <tr>\n",
              "      <th>8</th>\n",
              "      <td>5203</td>\n",
              "      <td>Cozy Clean Guest Room - Family Apt</td>\n",
              "      <td>7490</td>\n",
              "      <td>MaryEllen</td>\n",
              "      <td>Manhattan</td>\n",
              "      <td>Upper West Side</td>\n",
              "      <td>40.80178</td>\n",
              "      <td>-73.96723</td>\n",
              "      <td>Private room</td>\n",
              "      <td>79</td>\n",
              "      <td>2</td>\n",
              "      <td>118</td>\n",
              "      <td>2017-07-21</td>\n",
              "      <td>0.99</td>\n",
              "      <td>1</td>\n",
              "      <td>0</td>\n",
              "    </tr>\n",
              "    <tr>\n",
              "      <th>9</th>\n",
              "      <td>5238</td>\n",
              "      <td>Cute &amp; Cozy Lower East Side 1 bdrm</td>\n",
              "      <td>7549</td>\n",
              "      <td>Ben</td>\n",
              "      <td>Manhattan</td>\n",
              "      <td>Chinatown</td>\n",
              "      <td>40.71344</td>\n",
              "      <td>-73.99037</td>\n",
              "      <td>Entire home/apt</td>\n",
              "      <td>150</td>\n",
              "      <td>1</td>\n",
              "      <td>160</td>\n",
              "      <td>2019-06-09</td>\n",
              "      <td>1.33</td>\n",
              "      <td>4</td>\n",
              "      <td>188</td>\n",
              "    </tr>\n",
              "  </tbody>\n",
              "</table>\n",
              "</div>"
            ],
            "text/plain": [
              "     id  ... availability_365\n",
              "0  2539  ...              365\n",
              "1  2595  ...              355\n",
              "2  3647  ...              365\n",
              "3  3831  ...              194\n",
              "4  5022  ...                0\n",
              "5  5099  ...              129\n",
              "6  5121  ...                0\n",
              "7  5178  ...              220\n",
              "8  5203  ...                0\n",
              "9  5238  ...              188\n",
              "\n",
              "[10 rows x 16 columns]"
            ]
          },
          "metadata": {
            "tags": []
          },
          "execution_count": 6
        }
      ]
    },
    {
      "cell_type": "markdown",
      "metadata": {
        "id": "DrerY5G4uKbE"
      },
      "source": [
        "We proceed to briefly look at the descriptive statistics of the dataset."
      ]
    },
    {
      "cell_type": "code",
      "metadata": {
        "id": "oIrbw77umdII",
        "outputId": "4274deb6-1a18-43ef-f7b1-775bee1be2e9",
        "colab": {
          "base_uri": "https://localhost:8080/",
          "height": 288
        }
      },
      "source": [
        "airbnb_df.describe()"
      ],
      "execution_count": null,
      "outputs": [
        {
          "output_type": "execute_result",
          "data": {
            "text/html": [
              "<div>\n",
              "<style scoped>\n",
              "    .dataframe tbody tr th:only-of-type {\n",
              "        vertical-align: middle;\n",
              "    }\n",
              "\n",
              "    .dataframe tbody tr th {\n",
              "        vertical-align: top;\n",
              "    }\n",
              "\n",
              "    .dataframe thead th {\n",
              "        text-align: right;\n",
              "    }\n",
              "</style>\n",
              "<table border=\"1\" class=\"dataframe\">\n",
              "  <thead>\n",
              "    <tr style=\"text-align: right;\">\n",
              "      <th></th>\n",
              "      <th>id</th>\n",
              "      <th>host_id</th>\n",
              "      <th>latitude</th>\n",
              "      <th>longitude</th>\n",
              "      <th>price</th>\n",
              "      <th>minimum_nights</th>\n",
              "      <th>number_of_reviews</th>\n",
              "      <th>reviews_per_month</th>\n",
              "      <th>calculated_host_listings_count</th>\n",
              "      <th>availability_365</th>\n",
              "    </tr>\n",
              "  </thead>\n",
              "  <tbody>\n",
              "    <tr>\n",
              "      <th>count</th>\n",
              "      <td>4.889500e+04</td>\n",
              "      <td>4.889500e+04</td>\n",
              "      <td>48895.000000</td>\n",
              "      <td>48895.000000</td>\n",
              "      <td>48895.000000</td>\n",
              "      <td>48895.000000</td>\n",
              "      <td>48895.000000</td>\n",
              "      <td>38843.000000</td>\n",
              "      <td>48895.000000</td>\n",
              "      <td>48895.000000</td>\n",
              "    </tr>\n",
              "    <tr>\n",
              "      <th>mean</th>\n",
              "      <td>1.901714e+07</td>\n",
              "      <td>6.762001e+07</td>\n",
              "      <td>40.728949</td>\n",
              "      <td>-73.952170</td>\n",
              "      <td>152.720687</td>\n",
              "      <td>7.029962</td>\n",
              "      <td>23.274466</td>\n",
              "      <td>1.373221</td>\n",
              "      <td>7.143982</td>\n",
              "      <td>112.781327</td>\n",
              "    </tr>\n",
              "    <tr>\n",
              "      <th>std</th>\n",
              "      <td>1.098311e+07</td>\n",
              "      <td>7.861097e+07</td>\n",
              "      <td>0.054530</td>\n",
              "      <td>0.046157</td>\n",
              "      <td>240.154170</td>\n",
              "      <td>20.510550</td>\n",
              "      <td>44.550582</td>\n",
              "      <td>1.680442</td>\n",
              "      <td>32.952519</td>\n",
              "      <td>131.622289</td>\n",
              "    </tr>\n",
              "    <tr>\n",
              "      <th>min</th>\n",
              "      <td>2.539000e+03</td>\n",
              "      <td>2.438000e+03</td>\n",
              "      <td>40.499790</td>\n",
              "      <td>-74.244420</td>\n",
              "      <td>0.000000</td>\n",
              "      <td>1.000000</td>\n",
              "      <td>0.000000</td>\n",
              "      <td>0.010000</td>\n",
              "      <td>1.000000</td>\n",
              "      <td>0.000000</td>\n",
              "    </tr>\n",
              "    <tr>\n",
              "      <th>25%</th>\n",
              "      <td>9.471945e+06</td>\n",
              "      <td>7.822033e+06</td>\n",
              "      <td>40.690100</td>\n",
              "      <td>-73.983070</td>\n",
              "      <td>69.000000</td>\n",
              "      <td>1.000000</td>\n",
              "      <td>1.000000</td>\n",
              "      <td>0.190000</td>\n",
              "      <td>1.000000</td>\n",
              "      <td>0.000000</td>\n",
              "    </tr>\n",
              "    <tr>\n",
              "      <th>50%</th>\n",
              "      <td>1.967728e+07</td>\n",
              "      <td>3.079382e+07</td>\n",
              "      <td>40.723070</td>\n",
              "      <td>-73.955680</td>\n",
              "      <td>106.000000</td>\n",
              "      <td>3.000000</td>\n",
              "      <td>5.000000</td>\n",
              "      <td>0.720000</td>\n",
              "      <td>1.000000</td>\n",
              "      <td>45.000000</td>\n",
              "    </tr>\n",
              "    <tr>\n",
              "      <th>75%</th>\n",
              "      <td>2.915218e+07</td>\n",
              "      <td>1.074344e+08</td>\n",
              "      <td>40.763115</td>\n",
              "      <td>-73.936275</td>\n",
              "      <td>175.000000</td>\n",
              "      <td>5.000000</td>\n",
              "      <td>24.000000</td>\n",
              "      <td>2.020000</td>\n",
              "      <td>2.000000</td>\n",
              "      <td>227.000000</td>\n",
              "    </tr>\n",
              "    <tr>\n",
              "      <th>max</th>\n",
              "      <td>3.648724e+07</td>\n",
              "      <td>2.743213e+08</td>\n",
              "      <td>40.913060</td>\n",
              "      <td>-73.712990</td>\n",
              "      <td>10000.000000</td>\n",
              "      <td>1250.000000</td>\n",
              "      <td>629.000000</td>\n",
              "      <td>58.500000</td>\n",
              "      <td>327.000000</td>\n",
              "      <td>365.000000</td>\n",
              "    </tr>\n",
              "  </tbody>\n",
              "</table>\n",
              "</div>"
            ],
            "text/plain": [
              "                 id  ...  availability_365\n",
              "count  4.889500e+04  ...      48895.000000\n",
              "mean   1.901714e+07  ...        112.781327\n",
              "std    1.098311e+07  ...        131.622289\n",
              "min    2.539000e+03  ...          0.000000\n",
              "25%    9.471945e+06  ...          0.000000\n",
              "50%    1.967728e+07  ...         45.000000\n",
              "75%    2.915218e+07  ...        227.000000\n",
              "max    3.648724e+07  ...        365.000000\n",
              "\n",
              "[8 rows x 10 columns]"
            ]
          },
          "metadata": {
            "tags": []
          },
          "execution_count": 7
        }
      ]
    },
    {
      "cell_type": "markdown",
      "metadata": {
        "id": "r1lyKfd3uM3a"
      },
      "source": [
        "**Observing the Columns in Details**"
      ]
    },
    {
      "cell_type": "markdown",
      "metadata": {
        "id": "jBOuJbyWuSyI"
      },
      "source": [
        "The following code will illustrate all the different unique values in each columns. \n",
        "We are interested in the number of different boroughs, neighborhoods and room types."
      ]
    },
    {
      "cell_type": "code",
      "metadata": {
        "id": "0_TBq5Ym0dyD",
        "outputId": "c635179f-62e3-44d4-fed8-ec40e436f8fa",
        "colab": {
          "base_uri": "https://localhost:8080/",
          "height": 999
        }
      },
      "source": [
        "print(' The number of different boroughs in this dataset is: ' + str(airbnb_df['neighbourhood_group'].nunique()))\n",
        "\n",
        "print(airbnb_df.neighbourhood_group.unique())\n",
        "print('  ')\n",
        "print(' The number of different neighborhoods in this dataset is: ' + str(airbnb_df['neighbourhood'].nunique()))\n",
        "print(airbnb_df.neighbourhood.unique())\n",
        "print('  ')\n",
        "print(' The number amount of different types of rooms in this dataset is: ' + str(airbnb_df['room_type'].nunique()))\n",
        "print(airbnb_df.room_type.unique())"
      ],
      "execution_count": null,
      "outputs": [
        {
          "output_type": "stream",
          "text": [
            " The number of different boroughs in this dataset is: 5\n",
            "['Brooklyn' 'Manhattan' 'Queens' 'Staten Island' 'Bronx']\n",
            "  \n",
            " The number of different neighborhoods in this dataset is: 221\n",
            "['Kensington' 'Midtown' 'Harlem' 'Clinton Hill' 'East Harlem'\n",
            " 'Murray Hill' 'Bedford-Stuyvesant' \"Hell's Kitchen\" 'Upper West Side'\n",
            " 'Chinatown' 'South Slope' 'West Village' 'Williamsburg' 'Fort Greene'\n",
            " 'Chelsea' 'Crown Heights' 'Park Slope' 'Windsor Terrace' 'Inwood'\n",
            " 'East Village' 'Greenpoint' 'Bushwick' 'Flatbush' 'Lower East Side'\n",
            " 'Prospect-Lefferts Gardens' 'Long Island City' 'Kips Bay' 'SoHo'\n",
            " 'Upper East Side' 'Prospect Heights' 'Washington Heights' 'Woodside'\n",
            " 'Brooklyn Heights' 'Carroll Gardens' 'Gowanus' 'Flatlands' 'Cobble Hill'\n",
            " 'Flushing' 'Boerum Hill' 'Sunnyside' 'DUMBO' 'St. George' 'Highbridge'\n",
            " 'Financial District' 'Ridgewood' 'Morningside Heights' 'Jamaica'\n",
            " 'Middle Village' 'NoHo' 'Ditmars Steinway' 'Flatiron District'\n",
            " 'Roosevelt Island' 'Greenwich Village' 'Little Italy' 'East Flatbush'\n",
            " 'Tompkinsville' 'Astoria' 'Clason Point' 'Eastchester' 'Kingsbridge'\n",
            " 'Two Bridges' 'Queens Village' 'Rockaway Beach' 'Forest Hills' 'Nolita'\n",
            " 'Woodlawn' 'University Heights' 'Gravesend' 'Gramercy' 'Allerton'\n",
            " 'East New York' 'Theater District' 'Concourse Village' 'Sheepshead Bay'\n",
            " 'Emerson Hill' 'Fort Hamilton' 'Bensonhurst' 'Tribeca' 'Shore Acres'\n",
            " 'Sunset Park' 'Concourse' 'Elmhurst' 'Brighton Beach' 'Jackson Heights'\n",
            " 'Cypress Hills' 'St. Albans' 'Arrochar' 'Rego Park' 'Wakefield' 'Clifton'\n",
            " 'Bay Ridge' 'Graniteville' 'Spuyten Duyvil' 'Stapleton' 'Briarwood'\n",
            " 'Ozone Park' 'Columbia St' 'Vinegar Hill' 'Mott Haven' 'Longwood'\n",
            " 'Canarsie' 'Battery Park City' 'Civic Center' 'East Elmhurst'\n",
            " 'New Springville' 'Morris Heights' 'Arverne' 'Cambria Heights'\n",
            " 'Tottenville' 'Mariners Harbor' 'Concord' 'Borough Park' 'Bayside'\n",
            " 'Downtown Brooklyn' 'Port Morris' 'Fieldston' 'Kew Gardens' 'Midwood'\n",
            " 'College Point' 'Mount Eden' 'City Island' 'Glendale' 'Port Richmond'\n",
            " 'Red Hook' 'Richmond Hill' 'Bellerose' 'Maspeth' 'Williamsbridge'\n",
            " 'Soundview' 'Woodhaven' 'Woodrow' 'Co-op City' 'Stuyvesant Town'\n",
            " 'Parkchester' 'North Riverdale' 'Dyker Heights' 'Bronxdale' 'Sea Gate'\n",
            " 'Riverdale' 'Kew Gardens Hills' 'Bay Terrace' 'Norwood'\n",
            " 'Claremont Village' 'Whitestone' 'Fordham' 'Bayswater' 'Navy Yard'\n",
            " 'Brownsville' 'Eltingville' 'Fresh Meadows' 'Mount Hope'\n",
            " 'Lighthouse Hill' 'Springfield Gardens' 'Howard Beach' 'Belle Harbor'\n",
            " 'Jamaica Estates' 'Van Nest' 'Morris Park' 'West Brighton' 'Far Rockaway'\n",
            " 'South Ozone Park' 'Tremont' 'Corona' 'Great Kills' 'Manhattan Beach'\n",
            " 'Marble Hill' 'Dongan Hills' 'Castleton Corners' 'East Morrisania'\n",
            " 'Hunts Point' 'Neponsit' 'Pelham Bay' 'Randall Manor' 'Throgs Neck'\n",
            " 'Todt Hill' 'West Farms' 'Silver Lake' 'Morrisania' 'Laurelton'\n",
            " 'Grymes Hill' 'Holliswood' 'Pelham Gardens' 'Belmont' 'Rosedale'\n",
            " 'Edgemere' 'New Brighton' 'Midland Beach' 'Baychester' 'Melrose'\n",
            " 'Bergen Beach' 'Richmondtown' 'Howland Hook' 'Schuylerville'\n",
            " 'Coney Island' 'New Dorp Beach' \"Prince's Bay\" 'South Beach' 'Bath Beach'\n",
            " 'Jamaica Hills' 'Oakwood' 'Castle Hill' 'Hollis' 'Douglaston' 'Huguenot'\n",
            " 'Olinville' 'Edenwald' 'Grant City' 'Westerleigh'\n",
            " 'Bay Terrace, Staten Island' 'Westchester Square' 'Little Neck'\n",
            " 'Fort Wadsworth' 'Rosebank' 'Unionport' 'Mill Basin' 'Arden Heights'\n",
            " \"Bull's Head\" 'New Dorp' 'Rossville' 'Breezy Point' 'Willowbrook']\n",
            "  \n",
            " The number amount of different types of rooms in this dataset is: 3\n",
            "['Private room' 'Entire home/apt' 'Shared room']\n"
          ],
          "name": "stdout"
        }
      ]
    },
    {
      "cell_type": "markdown",
      "metadata": {
        "id": "xZSXhseSe4JP"
      },
      "source": [
        "**1) Analyzing the different boroughs and their listings' average nightly prices.**"
      ]
    },
    {
      "cell_type": "markdown",
      "metadata": {
        "id": "a-QT1DNMudfK"
      },
      "source": [
        "The following code will create databases that contain only the borough in question. \n",
        "Brooklyn_df will contain all the data for the listings where the neighbourhood_group will be Brooklyn, for example."
      ]
    },
    {
      "cell_type": "code",
      "metadata": {
        "outputId": "1bf219dd-3c85-485d-8f5e-74b05dbf2844",
        "id": "H-kf9bqM5obC",
        "colab": {
          "base_uri": "https://localhost:8080/",
          "height": 374
        }
      },
      "source": [
        "Brooklyn = (airbnb_df['neighbourhood_group'] == 'Brooklyn')\n",
        "Brooklyn_df = airbnb_df[Brooklyn.values]\n",
        "\n",
        "\n",
        "Manhattan = (airbnb_df['neighbourhood_group'] == 'Manhattan')\n",
        "Manhattan_df = airbnb_df[Manhattan.values]\n",
        "\n",
        "\n",
        "Staten_Island = (airbnb_df['neighbourhood_group'] == 'Staten Island')\n",
        "Staten_Island_df = airbnb_df[Staten_Island.values]\n",
        "\n",
        "\n",
        "Queens = (airbnb_df['neighbourhood_group'] == 'Queens')\n",
        "Queens_df = airbnb_df[Queens.values]\n",
        "\n",
        "\n",
        "Bronx = (airbnb_df['neighbourhood_group'] == 'Bronx')\n",
        "Bronx_df = airbnb_df[Bronx.values]\n",
        "Bronx_df.head()"
      ],
      "execution_count": null,
      "outputs": [
        {
          "output_type": "execute_result",
          "data": {
            "text/html": [
              "<div>\n",
              "<style scoped>\n",
              "    .dataframe tbody tr th:only-of-type {\n",
              "        vertical-align: middle;\n",
              "    }\n",
              "\n",
              "    .dataframe tbody tr th {\n",
              "        vertical-align: top;\n",
              "    }\n",
              "\n",
              "    .dataframe thead th {\n",
              "        text-align: right;\n",
              "    }\n",
              "</style>\n",
              "<table border=\"1\" class=\"dataframe\">\n",
              "  <thead>\n",
              "    <tr style=\"text-align: right;\">\n",
              "      <th></th>\n",
              "      <th>id</th>\n",
              "      <th>name</th>\n",
              "      <th>host_id</th>\n",
              "      <th>host_name</th>\n",
              "      <th>neighbourhood_group</th>\n",
              "      <th>neighbourhood</th>\n",
              "      <th>latitude</th>\n",
              "      <th>longitude</th>\n",
              "      <th>room_type</th>\n",
              "      <th>price</th>\n",
              "      <th>minimum_nights</th>\n",
              "      <th>number_of_reviews</th>\n",
              "      <th>last_review</th>\n",
              "      <th>reviews_per_month</th>\n",
              "      <th>calculated_host_listings_count</th>\n",
              "      <th>availability_365</th>\n",
              "    </tr>\n",
              "  </thead>\n",
              "  <tbody>\n",
              "    <tr>\n",
              "      <th>171</th>\n",
              "      <td>44096</td>\n",
              "      <td>Room with a View</td>\n",
              "      <td>190409</td>\n",
              "      <td>Waundell</td>\n",
              "      <td>Bronx</td>\n",
              "      <td>Highbridge</td>\n",
              "      <td>40.83232</td>\n",
              "      <td>-73.93184</td>\n",
              "      <td>Private room</td>\n",
              "      <td>40</td>\n",
              "      <td>1</td>\n",
              "      <td>219</td>\n",
              "      <td>2019-07-04</td>\n",
              "      <td>2.04</td>\n",
              "      <td>3</td>\n",
              "      <td>353</td>\n",
              "    </tr>\n",
              "    <tr>\n",
              "      <th>207</th>\n",
              "      <td>54626</td>\n",
              "      <td>Cozy bedroom by Yankee Stadium</td>\n",
              "      <td>190409</td>\n",
              "      <td>Waundell</td>\n",
              "      <td>Bronx</td>\n",
              "      <td>Highbridge</td>\n",
              "      <td>40.83075</td>\n",
              "      <td>-73.93058</td>\n",
              "      <td>Private room</td>\n",
              "      <td>45</td>\n",
              "      <td>1</td>\n",
              "      <td>138</td>\n",
              "      <td>2019-06-30</td>\n",
              "      <td>1.45</td>\n",
              "      <td>3</td>\n",
              "      <td>323</td>\n",
              "    </tr>\n",
              "    <tr>\n",
              "      <th>260</th>\n",
              "      <td>63588</td>\n",
              "      <td>LL3</td>\n",
              "      <td>295128</td>\n",
              "      <td>Carol Gloria</td>\n",
              "      <td>Bronx</td>\n",
              "      <td>Clason Point</td>\n",
              "      <td>40.81309</td>\n",
              "      <td>-73.85514</td>\n",
              "      <td>Private room</td>\n",
              "      <td>90</td>\n",
              "      <td>2</td>\n",
              "      <td>0</td>\n",
              "      <td>NaN</td>\n",
              "      <td>NaN</td>\n",
              "      <td>7</td>\n",
              "      <td>349</td>\n",
              "    </tr>\n",
              "    <tr>\n",
              "      <th>261</th>\n",
              "      <td>63610</td>\n",
              "      <td>DOMINIQUE'S NY mini efficiency* wifi*metro*quiet</td>\n",
              "      <td>310670</td>\n",
              "      <td>Vie</td>\n",
              "      <td>Bronx</td>\n",
              "      <td>Eastchester</td>\n",
              "      <td>40.88057</td>\n",
              "      <td>-73.83572</td>\n",
              "      <td>Entire home/apt</td>\n",
              "      <td>105</td>\n",
              "      <td>2</td>\n",
              "      <td>38</td>\n",
              "      <td>2019-06-27</td>\n",
              "      <td>0.50</td>\n",
              "      <td>13</td>\n",
              "      <td>365</td>\n",
              "    </tr>\n",
              "    <tr>\n",
              "      <th>309</th>\n",
              "      <td>71812</td>\n",
              "      <td>Condo Apartment with laundry in unit</td>\n",
              "      <td>369015</td>\n",
              "      <td>Thai</td>\n",
              "      <td>Bronx</td>\n",
              "      <td>Kingsbridge</td>\n",
              "      <td>40.87207</td>\n",
              "      <td>-73.90193</td>\n",
              "      <td>Entire home/apt</td>\n",
              "      <td>90</td>\n",
              "      <td>30</td>\n",
              "      <td>4</td>\n",
              "      <td>2019-01-02</td>\n",
              "      <td>0.35</td>\n",
              "      <td>2</td>\n",
              "      <td>346</td>\n",
              "    </tr>\n",
              "  </tbody>\n",
              "</table>\n",
              "</div>"
            ],
            "text/plain": [
              "        id  ... availability_365\n",
              "171  44096  ...              353\n",
              "207  54626  ...              323\n",
              "260  63588  ...              349\n",
              "261  63610  ...              365\n",
              "309  71812  ...              346\n",
              "\n",
              "[5 rows x 16 columns]"
            ]
          },
          "metadata": {
            "tags": []
          },
          "execution_count": 4
        }
      ]
    },
    {
      "cell_type": "markdown",
      "metadata": {
        "id": "SUFkrQNrumjr"
      },
      "source": [
        "This code will give us the average listing price for each neighborhood:"
      ]
    },
    {
      "cell_type": "code",
      "metadata": {
        "id": "vzuUFYaTMX0N",
        "outputId": "7f4dd50c-24cb-4cac-d7c6-c60adbe8f2e7",
        "colab": {
          "base_uri": "https://localhost:8080/",
          "height": 108
        }
      },
      "source": [
        "Brooklyn_mean_price = Brooklyn_df['price'].mean()\n",
        "Manhattan_mean_price = Manhattan_df['price'].mean()\n",
        "Bronx_mean_price = Bronx_df['price'].mean()\n",
        "Staten_Island_mean_price = Staten_Island_df['price'].mean()\n",
        "Queens_mean_price = Queens_df['price'].mean()\n",
        "\n",
        "print('The mean price of a listing in Brooklyn is: '+ str(Brooklyn_mean_price))\n",
        "print('The mean price of a listing in Manhattan is: '+ str(Manhattan_mean_price))\n",
        "print('The mean price of a listing in Bronx is: '+ str(Bronx_mean_price))\n",
        "print('The mean price of a listing in Staten Island is: '+ str(Staten_Island_mean_price))\n",
        "print('The mean price of a listing in Queens is: '+ str(Queens_mean_price))\n"
      ],
      "execution_count": null,
      "outputs": [
        {
          "output_type": "stream",
          "text": [
            "The mean price of a listing in Brooklyn is: 124.38320732192598\n",
            "The mean price of a listing in Manhattan is: 196.8758136743456\n",
            "The mean price of a listing in Bronx is: 87.4967919340055\n",
            "The mean price of a listing in Staten Island is: 114.81233243967829\n",
            "The mean price of a listing in Queens is: 99.51764913519237\n"
          ],
          "name": "stdout"
        }
      ]
    },
    {
      "cell_type": "markdown",
      "metadata": {
        "id": "3PsqM691urIo"
      },
      "source": [
        "We proceed to test if the price variation between these neighborhoods is statistically significant. We will do this for Manhattan and Brooklyn as they repectively have the highest averages."
      ]
    },
    {
      "cell_type": "code",
      "metadata": {
        "id": "ajBTDOR_KZTs",
        "outputId": "ef64bd1e-047b-402f-8c91-2e11a54273df",
        "colab": {
          "base_uri": "https://localhost:8080/",
          "height": 90
        }
      },
      "source": [
        "sample_1_n = Brooklyn_df.shape[0]\n",
        "sample_2_n = Manhattan_df.shape[0]\n",
        "sample_1_mean = Brooklyn_df['price'].mean()\n",
        "sample_2_mean = Manhattan_df['price'].mean()\n",
        "sample_1_var = Brooklyn_df['price'].var()\n",
        "sample_2_var = Manhattan_df['price'].var()\n",
        "\n",
        "std_err_difference = math.sqrt((sample_1_var/sample_1_n)+(sample_2_var/sample_2_n))\n",
        "\n",
        "mean_difference = sample_2_mean - sample_1_mean\n",
        "\n",
        "margin_of_error = 1.96 * std_err_difference\n",
        "ci_lower = mean_difference - margin_of_error\n",
        "ci_upper = mean_difference + margin_of_error\n",
        "\n",
        "print('The mean for Brooklyn listings is: ' + str(sample_1_mean))\n",
        "print('The mean for Manhattan listings is: ' + str(sample_2_mean))\n",
        "print( ' ')\n",
        "print(\"The difference in means at the 95% confidence interval is between \"+ str(ci_lower)+\" and \"+str(ci_upper)+\".\")"
      ],
      "execution_count": null,
      "outputs": [
        {
          "output_type": "stream",
          "text": [
            "The mean for Brooklyn listings is: 124.38320732192598\n",
            "The mean for Manhattan listings is: 196.8758136743456\n",
            " \n",
            "The difference in means at the 95% confidence interval is between 67.83096486344694 and 77.15424784139232.\n"
          ],
          "name": "stdout"
        }
      ]
    },
    {
      "cell_type": "markdown",
      "metadata": {
        "id": "h5yzMx5SZ2cO"
      },
      "source": [
        "We then want to compare Brooklyn and one of the other boroughs as they all seem to have the same averages. We will compare with Queens. "
      ]
    },
    {
      "cell_type": "code",
      "metadata": {
        "id": "sBGp1Qo5Z1TG",
        "outputId": "9a74adee-af9f-4230-b213-dc6fbbaec275",
        "colab": {
          "base_uri": "https://localhost:8080/",
          "height": 90
        }
      },
      "source": [
        "sample_1_n = Brooklyn_df.shape[0]\n",
        "sample_2_n = Queens_df.shape[0]\n",
        "sample_1_mean = Brooklyn_df['price'].mean()\n",
        "sample_2_mean = Queens_df['price'].mean()\n",
        "sample_1_var = Brooklyn_df['price'].var()\n",
        "sample_2_var = Queens_df['price'].var()\n",
        "\n",
        "std_err_difference = math.sqrt((sample_1_var/sample_1_n)+(sample_2_var/sample_2_n))\n",
        "\n",
        "mean_difference = sample_2_mean - sample_1_mean\n",
        "\n",
        "margin_of_error = 1.96 * std_err_difference\n",
        "ci_lower = mean_difference - margin_of_error\n",
        "ci_upper = mean_difference + margin_of_error\n",
        "\n",
        "print('The mean for Brooklyn listings is: ' + str(sample_1_mean))\n",
        "print('The mean for Queens\\' listings is: ' + str(sample_2_mean))\n",
        "print( ' ')\n",
        "print(\"The difference in means at the 95% confidence interval is between \"+ str(ci_lower)+\" and \"+str(ci_upper)+\".\")"
      ],
      "execution_count": null,
      "outputs": [
        {
          "output_type": "stream",
          "text": [
            "The mean for Brooklyn listings is: 124.38320732192598\n",
            "The mean for Queens' listings is: 99.51764913519237\n",
            " \n",
            "The difference in means at the 95% confidence interval is between -29.92571652803202 and -19.805399845435197.\n"
          ],
          "name": "stdout"
        }
      ]
    },
    {
      "cell_type": "markdown",
      "metadata": {
        "id": "REjIzc7Puzfz"
      },
      "source": [
        "We use boxplots to illustrate the variations of the average neighborhood listing prices."
      ]
    },
    {
      "cell_type": "code",
      "metadata": {
        "id": "1PKi7D0-5Tp5",
        "outputId": "03d888d5-4b83-49ba-92d8-2a434f3c221b",
        "colab": {
          "base_uri": "https://localhost:8080/",
          "height": 874
        }
      },
      "source": [
        "# Boxplot #1: \n",
        "\n",
        "sns.boxplot(y='price', x='neighbourhood_group', data= airbnb_df, showfliers=False)\n",
        "\n",
        "#Boxplot #2: \n",
        "df1 = airbnb_df.groupby('neighbourhood_group')\n",
        "axes = df1.boxplot(column='price', layout=(1,9), figsize=(20,10), showfliers = False )\n",
        "\n"
      ],
      "execution_count": null,
      "outputs": [
        {
          "output_type": "display_data",
          "data": {
            "image/png": "[encoded data removed]",
            "text/plain": [
              "<Figure size 432x288 with 1 Axes>"
            ]
          },
          "metadata": {
            "tags": []
          }
        },
        {
          "output_type": "display_data",
          "data": {
            "image/png": "[encoded data removed]",
            "text/plain": [
              "<Figure size 1440x720 with 9 Axes>"
            ]
          },
          "metadata": {
            "tags": []
          }
        }
      ]
    },
    {
      "cell_type": "markdown",
      "metadata": {
        "id": "aPFjv8ugS176"
      },
      "source": [
        "*Findings:* \n",
        "\n",
        "It appears the most expensive boroughs are Manhattan and Brooklyn. We would want therefore to prioritize the Airbnb marketing strategy to target these boroughs and to recruit more dwelling owners in their neighborhood. With increased rentals in these boroughs, Airbnb's profit would increase. \n",
        "We also would want to follow up in a further analysis which are the most expensive neighborhoods. By targeting these places, we would be able to increase the profitability on the listing units. "
      ]
    },
    {
      "cell_type": "markdown",
      "metadata": {
        "id": "l3vrtfApevV4"
      },
      "source": [
        "**2) Analyzing the difference in prices based on the Room Type**"
      ]
    },
    {
      "cell_type": "markdown",
      "metadata": {
        "id": "6OUCoqh9vi2O"
      },
      "source": [
        "The following code below creates databases that will contain unique values of the room_type. \n",
        "Private_Room_df for example will contain all the records where the room is private."
      ]
    },
    {
      "cell_type": "code",
      "metadata": {
        "id": "u9C0uFprengC",
        "outputId": "cda830b1-215a-45a7-a2a4-b4f14ab3f696",
        "colab": {
          "base_uri": "https://localhost:8080/",
          "height": 391
        }
      },
      "source": [
        "Private = (airbnb_df['room_type'] == 'Private room')\n",
        "Private_room_df = airbnb_df[Private.values]\n",
        "Private_room_df.head()\n",
        "\n",
        "Whole = (airbnb_df['room_type'] == 'Entire home/apt')\n",
        "Whole_place_df = airbnb_df[Whole.values]\n",
        "Whole_place_df.head()\n",
        "\n",
        "Shared = (airbnb_df['room_type'] == 'Shared room')\n",
        "Shared_Room_df = airbnb_df[Shared.values]\n",
        "Shared_Room_df.head()"
      ],
      "execution_count": null,
      "outputs": [
        {
          "output_type": "execute_result",
          "data": {
            "text/html": [
              "<div>\n",
              "<style scoped>\n",
              "    .dataframe tbody tr th:only-of-type {\n",
              "        vertical-align: middle;\n",
              "    }\n",
              "\n",
              "    .dataframe tbody tr th {\n",
              "        vertical-align: top;\n",
              "    }\n",
              "\n",
              "    .dataframe thead th {\n",
              "        text-align: right;\n",
              "    }\n",
              "</style>\n",
              "<table border=\"1\" class=\"dataframe\">\n",
              "  <thead>\n",
              "    <tr style=\"text-align: right;\">\n",
              "      <th></th>\n",
              "      <th>id</th>\n",
              "      <th>name</th>\n",
              "      <th>host_id</th>\n",
              "      <th>host_name</th>\n",
              "      <th>neighbourhood_group</th>\n",
              "      <th>neighbourhood</th>\n",
              "      <th>latitude</th>\n",
              "      <th>longitude</th>\n",
              "      <th>room_type</th>\n",
              "      <th>price</th>\n",
              "      <th>minimum_nights</th>\n",
              "      <th>number_of_reviews</th>\n",
              "      <th>last_review</th>\n",
              "      <th>reviews_per_month</th>\n",
              "      <th>calculated_host_listings_count</th>\n",
              "      <th>availability_365</th>\n",
              "    </tr>\n",
              "  </thead>\n",
              "  <tbody>\n",
              "    <tr>\n",
              "      <th>39</th>\n",
              "      <td>12048</td>\n",
              "      <td>LowerEastSide apt share shortterm 1</td>\n",
              "      <td>7549</td>\n",
              "      <td>Ben</td>\n",
              "      <td>Manhattan</td>\n",
              "      <td>Lower East Side</td>\n",
              "      <td>40.71401</td>\n",
              "      <td>-73.98917</td>\n",
              "      <td>Shared room</td>\n",
              "      <td>40</td>\n",
              "      <td>1</td>\n",
              "      <td>214</td>\n",
              "      <td>2019-07-05</td>\n",
              "      <td>1.81</td>\n",
              "      <td>4</td>\n",
              "      <td>188</td>\n",
              "    </tr>\n",
              "    <tr>\n",
              "      <th>203</th>\n",
              "      <td>54453</td>\n",
              "      <td>MIDTOWN WEST - Large alcove studio</td>\n",
              "      <td>255583</td>\n",
              "      <td>Anka</td>\n",
              "      <td>Manhattan</td>\n",
              "      <td>Hell's Kitchen</td>\n",
              "      <td>40.76548</td>\n",
              "      <td>-73.98474</td>\n",
              "      <td>Shared room</td>\n",
              "      <td>105</td>\n",
              "      <td>6</td>\n",
              "      <td>10</td>\n",
              "      <td>2014-01-07</td>\n",
              "      <td>0.09</td>\n",
              "      <td>1</td>\n",
              "      <td>363</td>\n",
              "    </tr>\n",
              "    <tr>\n",
              "      <th>357</th>\n",
              "      <td>99070</td>\n",
              "      <td>Comfortable Cozy Space in El Barrio</td>\n",
              "      <td>522065</td>\n",
              "      <td>Liz And Melissa</td>\n",
              "      <td>Manhattan</td>\n",
              "      <td>East Harlem</td>\n",
              "      <td>40.79406</td>\n",
              "      <td>-73.94102</td>\n",
              "      <td>Shared room</td>\n",
              "      <td>65</td>\n",
              "      <td>7</td>\n",
              "      <td>131</td>\n",
              "      <td>2019-05-26</td>\n",
              "      <td>1.31</td>\n",
              "      <td>2</td>\n",
              "      <td>0</td>\n",
              "    </tr>\n",
              "    <tr>\n",
              "      <th>492</th>\n",
              "      <td>173072</td>\n",
              "      <td>Cozy Pre-War Harlem Apartment</td>\n",
              "      <td>826192</td>\n",
              "      <td>Lewis</td>\n",
              "      <td>Manhattan</td>\n",
              "      <td>Harlem</td>\n",
              "      <td>40.80827</td>\n",
              "      <td>-73.95329</td>\n",
              "      <td>Shared room</td>\n",
              "      <td>49</td>\n",
              "      <td>3</td>\n",
              "      <td>168</td>\n",
              "      <td>2019-07-06</td>\n",
              "      <td>4.60</td>\n",
              "      <td>1</td>\n",
              "      <td>248</td>\n",
              "    </tr>\n",
              "    <tr>\n",
              "      <th>545</th>\n",
              "      <td>200645</td>\n",
              "      <td>Best Manhattan Studio Deal!</td>\n",
              "      <td>933378</td>\n",
              "      <td>Edo</td>\n",
              "      <td>Manhattan</td>\n",
              "      <td>Upper East Side</td>\n",
              "      <td>40.76739</td>\n",
              "      <td>-73.95570</td>\n",
              "      <td>Shared room</td>\n",
              "      <td>90</td>\n",
              "      <td>1</td>\n",
              "      <td>0</td>\n",
              "      <td>NaN</td>\n",
              "      <td>NaN</td>\n",
              "      <td>1</td>\n",
              "      <td>0</td>\n",
              "    </tr>\n",
              "  </tbody>\n",
              "</table>\n",
              "</div>"
            ],
            "text/plain": [
              "         id  ... availability_365\n",
              "39    12048  ...              188\n",
              "203   54453  ...              363\n",
              "357   99070  ...                0\n",
              "492  173072  ...              248\n",
              "545  200645  ...                0\n",
              "\n",
              "[5 rows x 16 columns]"
            ]
          },
          "metadata": {
            "tags": []
          },
          "execution_count": 13
        }
      ]
    },
    {
      "cell_type": "markdown",
      "metadata": {
        "id": "4mBuo1ZFvqzu"
      },
      "source": [
        "The following code gives us the average listing price for each room type. "
      ]
    },
    {
      "cell_type": "code",
      "metadata": {
        "id": "7JDQo1LwkCx4",
        "outputId": "e44e388c-e392-4a38-f6f7-48f4beb555b7",
        "colab": {
          "base_uri": "https://localhost:8080/",
          "height": 72
        }
      },
      "source": [
        "Private_room_mean_price = Private_room_df['price'].mean()\n",
        "Whole_place_mean_price = Whole_place_df['price'].mean()\n",
        "Shared_Room_df_price = Shared_Room_df['price'].mean()\n",
        "\n",
        "print('The mean price of an Entire place is: '+ str(Whole_place_mean_price))\n",
        "print('The mean price of a Private Room is: '+ str(Private_room_mean_price))\n",
        "print('The mean price of a Shared Room is: '+ str(Shared_Room_df_price))\n"
      ],
      "execution_count": null,
      "outputs": [
        {
          "output_type": "stream",
          "text": [
            "The mean price of an Entire place is: 211.79424613325986\n",
            "The mean price of a Private Room is: 89.78097285675894\n",
            "The mean price of a Shared Room is: 70.12758620689655\n"
          ],
          "name": "stdout"
        }
      ]
    },
    {
      "cell_type": "markdown",
      "metadata": {
        "id": "X1AJUstpY4mb"
      },
      "source": [
        "We test to see if the difference between a private room and an entire place is statistically significant: "
      ]
    },
    {
      "cell_type": "code",
      "metadata": {
        "id": "2pA9GYzGo0QX",
        "outputId": "20dc93cd-5730-4ced-c8c6-ec373ff0859c",
        "colab": {
          "base_uri": "https://localhost:8080/",
          "height": 90
        }
      },
      "source": [
        "sample_1_n = Private_room_df.shape[0]\n",
        "sample_2_n = Whole_place_df.shape[0]\n",
        "sample_1_mean = Private_room_df['price'].mean()\n",
        "sample_2_mean = Whole_place_df['price'].mean()\n",
        "sample_1_var = Private_room_df['price'].var()\n",
        "sample_2_var = Whole_place_df['price'].var()\n",
        "\n",
        "std_err_difference = math.sqrt((sample_1_var/sample_1_n)+(sample_2_var/sample_2_n))\n",
        "\n",
        "mean_difference = sample_2_mean - sample_1_mean\n",
        "\n",
        "margin_of_error = 1.96 * std_err_difference\n",
        "ci_lower = mean_difference - margin_of_error\n",
        "ci_upper = mean_difference + margin_of_error\n",
        "\n",
        "print('The mean for Private Room is: ' + str(sample_1_mean))\n",
        "print('The mean for an entire Place is: ' + str(sample_2_mean))\n",
        "print( ' ')\n",
        "print(\"The difference in means at the 95% confidence interval is between \"+ str(ci_lower)+\" and \"+str(ci_upper)+\".\")"
      ],
      "execution_count": null,
      "outputs": [
        {
          "output_type": "stream",
          "text": [
            "The mean for Private Room is: 89.78097285675894\n",
            "The mean for an entire Place is: 211.79424613325986\n",
            " \n",
            "The difference in means at the 95% confidence interval is between 117.93721415801267 and 126.08933239498919.\n"
          ],
          "name": "stdout"
        }
      ]
    },
    {
      "cell_type": "markdown",
      "metadata": {
        "id": "kl2fW7aNvzkN"
      },
      "source": [
        "We test to see if the difference between a private and shared room is statistically significant."
      ]
    },
    {
      "cell_type": "code",
      "metadata": {
        "id": "NwQLXJwJqijw",
        "outputId": "feed4458-3b6d-4a21-de4b-62c0615f7381",
        "colab": {
          "base_uri": "https://localhost:8080/",
          "height": 90
        }
      },
      "source": [
        "sample_1_n = Private_room_df.shape[0]\n",
        "sample_2_n = Shared_Room_df.shape[0]\n",
        "sample_1_mean = Private_room_df['price'].mean()\n",
        "sample_2_mean = Shared_Room_df['price'].mean()\n",
        "sample_1_var = Private_room_df['price'].var()\n",
        "sample_2_var = Shared_Room_df['price'].var()\n",
        "\n",
        "std_err_difference = math.sqrt((sample_1_var/sample_1_n)+(sample_2_var/sample_2_n))\n",
        "\n",
        "mean_difference = sample_2_mean - sample_1_mean\n",
        "\n",
        "margin_of_error = 1.96 * std_err_difference\n",
        "ci_lower = mean_difference - margin_of_error\n",
        "ci_upper = mean_difference + margin_of_error\n",
        "\n",
        "print('The mean for Private Room is: ' + str(sample_1_mean))\n",
        "print('The mean for an entire Place is: ' + str(sample_2_mean))\n",
        "print( ' ')\n",
        "print(\"The difference in means at the 95% confidence interval is between \"+ str(ci_lower)+\" and \"+str(ci_upper)+\".\")"
      ],
      "execution_count": null,
      "outputs": [
        {
          "output_type": "stream",
          "text": [
            "The mean for Private Room is: 89.78097285675894\n",
            "The mean for an entire Place is: 70.12758620689655\n",
            " \n",
            "The difference in means at the 95% confidence interval is between -25.873199488947538 and -13.43357381077723.\n"
          ],
          "name": "stdout"
        }
      ]
    },
    {
      "cell_type": "markdown",
      "metadata": {
        "id": "03dZFiqSv5V0"
      },
      "source": [
        "We use a boxplot to illustrate the differences between the types of rooms and their average nightly price. "
      ]
    },
    {
      "cell_type": "code",
      "metadata": {
        "id": "3UoBc02dX5P2",
        "outputId": "6fddbc7a-2346-487b-c8d1-16d46a669c89",
        "colab": {
          "base_uri": "https://localhost:8080/",
          "height": 874
        }
      },
      "source": [
        "# Boxplot #1: \n",
        "\n",
        "sns.boxplot(y='price', x='room_type', data= airbnb_df, showfliers=False)\n",
        "\n",
        "#Boxplot #2: \n",
        "df1 = airbnb_df.groupby('room_type')\n",
        "axes = df1.boxplot(column='price', layout=(1,9), figsize=(20,10), showfliers = False )\n"
      ],
      "execution_count": null,
      "outputs": [
        {
          "output_type": "display_data",
          "data": {
            "image/png": "[encoded data removed]",
            "text/plain": [
              "<Figure size 432x288 with 1 Axes>"
            ]
          },
          "metadata": {
            "tags": []
          }
        },
        {
          "output_type": "display_data",
          "data": {
            "image/png": "[encoded data removed]",
            "text/plain": [
              "<Figure size 1440x720 with 9 Axes>"
            ]
          },
          "metadata": {
            "tags": []
          }
        }
      ]
    },
    {
      "cell_type": "markdown",
      "metadata": {
        "id": "6J6wcaVCYrpH"
      },
      "source": [
        "*Findings*\n",
        "\n",
        "We can see from this analysis that entire places / appartments are more expensive than private rooms. We had hypothesized in our proposal that they would be 40% more. The actual price difference however is almost 147%. \n",
        "\n",
        "The Airbnb team should consider promoting the renting of an entire appartment, to people who rent out a room in that appartment. This would potentially increase profit margins. \n",
        "\n",
        "Another strategy to consider would be to promote room sharing: Although there is statistical significance between the price of rooms and shared rooms, if rooms were shared, therere would be twice as much revenue and more customers. \n",
        "\n",
        "There are limits to this strategy however, as this may take away from people who would want to rent private rooms.  More analysis would be needed. \n"
      ]
    },
    {
      "cell_type": "markdown",
      "metadata": {
        "id": "oXc5fR3O-nie"
      },
      "source": [
        "**3) Analyzing a relationship exists between price and number of reviews.**"
      ]
    },
    {
      "cell_type": "markdown",
      "metadata": {
        "id": "b716NzfHwFqn"
      },
      "source": [
        "We want to check if there is a correlation between the number of reviews and the price of the listing. \n",
        "We us the corr() method to calculate the Pearson correlation coefficient.\n",
        "Since the coefficient is close to 0, this means there appears to be no relationship. We will need to dig in deeper."
      ]
    },
    {
      "cell_type": "code",
      "metadata": {
        "id": "q9YmZ9ye_KHy",
        "outputId": "49e7cce5-09a2-45bd-d362-97385fee207b",
        "colab": {
          "base_uri": "https://localhost:8080/",
          "height": 138
        }
      },
      "source": [
        "airbnb_df[['price','number_of_reviews','reviews_per_month']].corr()"
      ],
      "execution_count": null,
      "outputs": [
        {
          "output_type": "execute_result",
          "data": {
            "text/html": [
              "<div>\n",
              "<style scoped>\n",
              "    .dataframe tbody tr th:only-of-type {\n",
              "        vertical-align: middle;\n",
              "    }\n",
              "\n",
              "    .dataframe tbody tr th {\n",
              "        vertical-align: top;\n",
              "    }\n",
              "\n",
              "    .dataframe thead th {\n",
              "        text-align: right;\n",
              "    }\n",
              "</style>\n",
              "<table border=\"1\" class=\"dataframe\">\n",
              "  <thead>\n",
              "    <tr style=\"text-align: right;\">\n",
              "      <th></th>\n",
              "      <th>price</th>\n",
              "      <th>number_of_reviews</th>\n",
              "      <th>reviews_per_month</th>\n",
              "    </tr>\n",
              "  </thead>\n",
              "  <tbody>\n",
              "    <tr>\n",
              "      <th>price</th>\n",
              "      <td>1.000000</td>\n",
              "      <td>-0.047954</td>\n",
              "      <td>-0.030608</td>\n",
              "    </tr>\n",
              "    <tr>\n",
              "      <th>number_of_reviews</th>\n",
              "      <td>-0.047954</td>\n",
              "      <td>1.000000</td>\n",
              "      <td>0.549868</td>\n",
              "    </tr>\n",
              "    <tr>\n",
              "      <th>reviews_per_month</th>\n",
              "      <td>-0.030608</td>\n",
              "      <td>0.549868</td>\n",
              "      <td>1.000000</td>\n",
              "    </tr>\n",
              "  </tbody>\n",
              "</table>\n",
              "</div>"
            ],
            "text/plain": [
              "                      price  number_of_reviews  reviews_per_month\n",
              "price              1.000000          -0.047954          -0.030608\n",
              "number_of_reviews -0.047954           1.000000           0.549868\n",
              "reviews_per_month -0.030608           0.549868           1.000000"
            ]
          },
          "metadata": {
            "tags": []
          },
          "execution_count": 18
        }
      ]
    },
    {
      "cell_type": "markdown",
      "metadata": {
        "id": "wmKke9BhwOn2"
      },
      "source": [
        "We create 3 different databases:\n",
        "\n",
        "1) One that contains the records for all listings with less than 50 reviews. \n",
        "\n",
        "2) One that contains the records for all listings with 50 or more reviews. \n",
        "\n",
        "3) One that contains the records for all listings with no reviews. \n"
      ]
    },
    {
      "cell_type": "code",
      "metadata": {
        "id": "BF-eeDfPkuKG",
        "outputId": "7c6005d7-7db4-4565-f4f9-a67205f47577",
        "colab": {
          "base_uri": "https://localhost:8080/",
          "height": 391
        }
      },
      "source": [
        "Less_Reviews = (airbnb_df['number_of_reviews'] < 50)\n",
        "Less_Reviews_df = airbnb_df[Less_Reviews.values]\n",
        "Less_Reviews_df.head()\n",
        "\n",
        "More_Reviews = (airbnb_df['number_of_reviews'] >= 50)\n",
        "More_Reviews_df = airbnb_df[More_Reviews.values]\n",
        "More_Reviews_df.head()\n",
        "\n",
        "No_Reviews = (airbnb_df['number_of_reviews'] == 0)\n",
        "No_Reviews_df = airbnb_df[No_Reviews.values]\n",
        "No_Reviews_df.head()"
      ],
      "execution_count": null,
      "outputs": [
        {
          "output_type": "execute_result",
          "data": {
            "text/html": [
              "<div>\n",
              "<style scoped>\n",
              "    .dataframe tbody tr th:only-of-type {\n",
              "        vertical-align: middle;\n",
              "    }\n",
              "\n",
              "    .dataframe tbody tr th {\n",
              "        vertical-align: top;\n",
              "    }\n",
              "\n",
              "    .dataframe thead th {\n",
              "        text-align: right;\n",
              "    }\n",
              "</style>\n",
              "<table border=\"1\" class=\"dataframe\">\n",
              "  <thead>\n",
              "    <tr style=\"text-align: right;\">\n",
              "      <th></th>\n",
              "      <th>id</th>\n",
              "      <th>name</th>\n",
              "      <th>host_id</th>\n",
              "      <th>host_name</th>\n",
              "      <th>neighbourhood_group</th>\n",
              "      <th>neighbourhood</th>\n",
              "      <th>latitude</th>\n",
              "      <th>longitude</th>\n",
              "      <th>room_type</th>\n",
              "      <th>price</th>\n",
              "      <th>minimum_nights</th>\n",
              "      <th>number_of_reviews</th>\n",
              "      <th>last_review</th>\n",
              "      <th>reviews_per_month</th>\n",
              "      <th>calculated_host_listings_count</th>\n",
              "      <th>availability_365</th>\n",
              "    </tr>\n",
              "  </thead>\n",
              "  <tbody>\n",
              "    <tr>\n",
              "      <th>2</th>\n",
              "      <td>3647</td>\n",
              "      <td>THE VILLAGE OF HARLEM....NEW YORK !</td>\n",
              "      <td>4632</td>\n",
              "      <td>Elisabeth</td>\n",
              "      <td>Manhattan</td>\n",
              "      <td>Harlem</td>\n",
              "      <td>40.80902</td>\n",
              "      <td>-73.94190</td>\n",
              "      <td>Private room</td>\n",
              "      <td>150</td>\n",
              "      <td>3</td>\n",
              "      <td>0</td>\n",
              "      <td>NaN</td>\n",
              "      <td>NaN</td>\n",
              "      <td>1</td>\n",
              "      <td>365</td>\n",
              "    </tr>\n",
              "    <tr>\n",
              "      <th>19</th>\n",
              "      <td>7750</td>\n",
              "      <td>Huge 2 BR Upper East  Cental Park</td>\n",
              "      <td>17985</td>\n",
              "      <td>Sing</td>\n",
              "      <td>Manhattan</td>\n",
              "      <td>East Harlem</td>\n",
              "      <td>40.79685</td>\n",
              "      <td>-73.94872</td>\n",
              "      <td>Entire home/apt</td>\n",
              "      <td>190</td>\n",
              "      <td>7</td>\n",
              "      <td>0</td>\n",
              "      <td>NaN</td>\n",
              "      <td>NaN</td>\n",
              "      <td>2</td>\n",
              "      <td>249</td>\n",
              "    </tr>\n",
              "    <tr>\n",
              "      <th>26</th>\n",
              "      <td>8700</td>\n",
              "      <td>Magnifique Suite au N de Manhattan - vue Cloitres</td>\n",
              "      <td>26394</td>\n",
              "      <td>Claude &amp; Sophie</td>\n",
              "      <td>Manhattan</td>\n",
              "      <td>Inwood</td>\n",
              "      <td>40.86754</td>\n",
              "      <td>-73.92639</td>\n",
              "      <td>Private room</td>\n",
              "      <td>80</td>\n",
              "      <td>4</td>\n",
              "      <td>0</td>\n",
              "      <td>NaN</td>\n",
              "      <td>NaN</td>\n",
              "      <td>1</td>\n",
              "      <td>0</td>\n",
              "    </tr>\n",
              "    <tr>\n",
              "      <th>36</th>\n",
              "      <td>11452</td>\n",
              "      <td>Clean and Quiet in Brooklyn</td>\n",
              "      <td>7355</td>\n",
              "      <td>Vt</td>\n",
              "      <td>Brooklyn</td>\n",
              "      <td>Bedford-Stuyvesant</td>\n",
              "      <td>40.68876</td>\n",
              "      <td>-73.94312</td>\n",
              "      <td>Private room</td>\n",
              "      <td>35</td>\n",
              "      <td>60</td>\n",
              "      <td>0</td>\n",
              "      <td>NaN</td>\n",
              "      <td>NaN</td>\n",
              "      <td>1</td>\n",
              "      <td>365</td>\n",
              "    </tr>\n",
              "    <tr>\n",
              "      <th>38</th>\n",
              "      <td>11943</td>\n",
              "      <td>Country space in the city</td>\n",
              "      <td>45445</td>\n",
              "      <td>Harriet</td>\n",
              "      <td>Brooklyn</td>\n",
              "      <td>Flatbush</td>\n",
              "      <td>40.63702</td>\n",
              "      <td>-73.96327</td>\n",
              "      <td>Private room</td>\n",
              "      <td>150</td>\n",
              "      <td>1</td>\n",
              "      <td>0</td>\n",
              "      <td>NaN</td>\n",
              "      <td>NaN</td>\n",
              "      <td>1</td>\n",
              "      <td>365</td>\n",
              "    </tr>\n",
              "  </tbody>\n",
              "</table>\n",
              "</div>"
            ],
            "text/plain": [
              "       id  ... availability_365\n",
              "2    3647  ...              365\n",
              "19   7750  ...              249\n",
              "26   8700  ...                0\n",
              "36  11452  ...              365\n",
              "38  11943  ...              365\n",
              "\n",
              "[5 rows x 16 columns]"
            ]
          },
          "metadata": {
            "tags": []
          },
          "execution_count": 19
        }
      ]
    },
    {
      "cell_type": "markdown",
      "metadata": {
        "id": "C_fDE_RNyAyM"
      },
      "source": [
        "We then get the mean for each dataset."
      ]
    },
    {
      "cell_type": "code",
      "metadata": {
        "id": "fkqvqFeEnnDE",
        "outputId": "f3834fc2-bd50-406c-853b-d58a1f802784",
        "colab": {
          "base_uri": "https://localhost:8080/",
          "height": 72
        }
      },
      "source": [
        "Less_Reviews_mean_price = Less_Reviews_df['price'].mean()\n",
        "More_Reviews_mean_price = More_Reviews_df['price'].mean()\n",
        "No_Reviews_mean_price = No_Reviews_df['price'].mean()\n",
        "\n",
        "print('The mean price of places with less than 50 reviews is: '+ str(Less_Reviews_mean_price))\n",
        "print('The mean price of places with more than 50 reviews is: '+ str(More_Reviews_mean_price))\n",
        "print('The mean price of places with no reviews is: '+ str(No_Reviews_mean_price))\n"
      ],
      "execution_count": null,
      "outputs": [
        {
          "output_type": "stream",
          "text": [
            "The mean price of places with less than 50 reviews is: 156.76012818673172\n",
            "The mean price of places with more than 50 reviews is: 128.86739161135432\n",
            "The mean price of places with no reviews is: 192.9190210903303\n"
          ],
          "name": "stdout"
        }
      ]
    },
    {
      "cell_type": "markdown",
      "metadata": {
        "id": "G6DVJ-Cw-_2a"
      },
      "source": [
        "**The following information is interesting. It appears that as there are more reviews, the price actually tends to be lower!**"
      ]
    },
    {
      "cell_type": "markdown",
      "metadata": {
        "id": "8tAjvy2lyccw"
      },
      "source": [
        "We test out to see if there is any statistical significance in these differences.\n"
      ]
    },
    {
      "cell_type": "code",
      "metadata": {
        "id": "towf54VCqyBj",
        "outputId": "b8bfc826-0a17-43ad-9d67-6a93db2bff36",
        "colab": {
          "base_uri": "https://localhost:8080/",
          "height": 90
        }
      },
      "source": [
        "sample_1_n = Less_Reviews_df.shape[0]\n",
        "sample_2_n = More_Reviews_df.shape[0]\n",
        "sample_1_mean = Less_Reviews_df['price'].mean()\n",
        "sample_2_mean = More_Reviews_df['price'].mean()\n",
        "sample_1_var = Less_Reviews_df['price'].var()\n",
        "sample_2_var = More_Reviews_df['price'].var()\n",
        "\n",
        "std_err_difference = math.sqrt((sample_1_var/sample_1_n)+(sample_2_var/sample_2_n))\n",
        "\n",
        "mean_difference = sample_2_mean - sample_1_mean\n",
        "\n",
        "margin_of_error = 1.96 * std_err_difference\n",
        "ci_lower = mean_difference - margin_of_error\n",
        "ci_upper = mean_difference + margin_of_error\n",
        "\n",
        "print('The mean price of a room with less than 50 reviews is: ' + str(sample_1_mean))\n",
        "print('The mean price of a room with more than 50 reviews is: ' + str(sample_2_mean))\n",
        "print(' ')\n",
        "print(\"The difference in means at the 95% confidence interval is between \"+ str(ci_lower)+\" and \"+str(ci_upper)+\".\")"
      ],
      "execution_count": null,
      "outputs": [
        {
          "output_type": "stream",
          "text": [
            "The mean price of a room with less than 50 reviews is: 156.76012818673172\n",
            "The mean price of a room with more than 50 reviews is: 128.86739161135432\n",
            " \n",
            "The difference in means at the 95% confidence interval is between -31.33621201365649 and -24.449261137098308.\n"
          ],
          "name": "stdout"
        }
      ]
    },
    {
      "cell_type": "code",
      "metadata": {
        "id": "GVeGCmZGxN4J",
        "outputId": "77174527-793d-494c-8ab5-f33181ed75e0",
        "colab": {
          "base_uri": "https://localhost:8080/",
          "height": 391
        }
      },
      "source": [
        "Less_Reviews = (airbnb_df['number_of_reviews'] < 50)\n",
        "Less_Reviews_df = airbnb_df[Less_Reviews.values]\n",
        "Less_Reviews_df.head()"
      ],
      "execution_count": null,
      "outputs": [
        {
          "output_type": "execute_result",
          "data": {
            "text/html": [
              "<div>\n",
              "<style scoped>\n",
              "    .dataframe tbody tr th:only-of-type {\n",
              "        vertical-align: middle;\n",
              "    }\n",
              "\n",
              "    .dataframe tbody tr th {\n",
              "        vertical-align: top;\n",
              "    }\n",
              "\n",
              "    .dataframe thead th {\n",
              "        text-align: right;\n",
              "    }\n",
              "</style>\n",
              "<table border=\"1\" class=\"dataframe\">\n",
              "  <thead>\n",
              "    <tr style=\"text-align: right;\">\n",
              "      <th></th>\n",
              "      <th>id</th>\n",
              "      <th>name</th>\n",
              "      <th>host_id</th>\n",
              "      <th>host_name</th>\n",
              "      <th>neighbourhood_group</th>\n",
              "      <th>neighbourhood</th>\n",
              "      <th>latitude</th>\n",
              "      <th>longitude</th>\n",
              "      <th>room_type</th>\n",
              "      <th>price</th>\n",
              "      <th>minimum_nights</th>\n",
              "      <th>number_of_reviews</th>\n",
              "      <th>last_review</th>\n",
              "      <th>reviews_per_month</th>\n",
              "      <th>calculated_host_listings_count</th>\n",
              "      <th>availability_365</th>\n",
              "    </tr>\n",
              "  </thead>\n",
              "  <tbody>\n",
              "    <tr>\n",
              "      <th>0</th>\n",
              "      <td>2539</td>\n",
              "      <td>Clean &amp; quiet apt home by the park</td>\n",
              "      <td>2787</td>\n",
              "      <td>John</td>\n",
              "      <td>Brooklyn</td>\n",
              "      <td>Kensington</td>\n",
              "      <td>40.64749</td>\n",
              "      <td>-73.97237</td>\n",
              "      <td>Private room</td>\n",
              "      <td>149</td>\n",
              "      <td>1</td>\n",
              "      <td>9</td>\n",
              "      <td>2018-10-19</td>\n",
              "      <td>0.21</td>\n",
              "      <td>6</td>\n",
              "      <td>365</td>\n",
              "    </tr>\n",
              "    <tr>\n",
              "      <th>1</th>\n",
              "      <td>2595</td>\n",
              "      <td>Skylit Midtown Castle</td>\n",
              "      <td>2845</td>\n",
              "      <td>Jennifer</td>\n",
              "      <td>Manhattan</td>\n",
              "      <td>Midtown</td>\n",
              "      <td>40.75362</td>\n",
              "      <td>-73.98377</td>\n",
              "      <td>Entire home/apt</td>\n",
              "      <td>225</td>\n",
              "      <td>1</td>\n",
              "      <td>45</td>\n",
              "      <td>2019-05-21</td>\n",
              "      <td>0.38</td>\n",
              "      <td>2</td>\n",
              "      <td>355</td>\n",
              "    </tr>\n",
              "    <tr>\n",
              "      <th>2</th>\n",
              "      <td>3647</td>\n",
              "      <td>THE VILLAGE OF HARLEM....NEW YORK !</td>\n",
              "      <td>4632</td>\n",
              "      <td>Elisabeth</td>\n",
              "      <td>Manhattan</td>\n",
              "      <td>Harlem</td>\n",
              "      <td>40.80902</td>\n",
              "      <td>-73.94190</td>\n",
              "      <td>Private room</td>\n",
              "      <td>150</td>\n",
              "      <td>3</td>\n",
              "      <td>0</td>\n",
              "      <td>NaN</td>\n",
              "      <td>NaN</td>\n",
              "      <td>1</td>\n",
              "      <td>365</td>\n",
              "    </tr>\n",
              "    <tr>\n",
              "      <th>4</th>\n",
              "      <td>5022</td>\n",
              "      <td>Entire Apt: Spacious Studio/Loft by central park</td>\n",
              "      <td>7192</td>\n",
              "      <td>Laura</td>\n",
              "      <td>Manhattan</td>\n",
              "      <td>East Harlem</td>\n",
              "      <td>40.79851</td>\n",
              "      <td>-73.94399</td>\n",
              "      <td>Entire home/apt</td>\n",
              "      <td>80</td>\n",
              "      <td>10</td>\n",
              "      <td>9</td>\n",
              "      <td>2018-11-19</td>\n",
              "      <td>0.10</td>\n",
              "      <td>1</td>\n",
              "      <td>0</td>\n",
              "    </tr>\n",
              "    <tr>\n",
              "      <th>6</th>\n",
              "      <td>5121</td>\n",
              "      <td>BlissArtsSpace!</td>\n",
              "      <td>7356</td>\n",
              "      <td>Garon</td>\n",
              "      <td>Brooklyn</td>\n",
              "      <td>Bedford-Stuyvesant</td>\n",
              "      <td>40.68688</td>\n",
              "      <td>-73.95596</td>\n",
              "      <td>Private room</td>\n",
              "      <td>60</td>\n",
              "      <td>45</td>\n",
              "      <td>49</td>\n",
              "      <td>2017-10-05</td>\n",
              "      <td>0.40</td>\n",
              "      <td>1</td>\n",
              "      <td>0</td>\n",
              "    </tr>\n",
              "  </tbody>\n",
              "</table>\n",
              "</div>"
            ],
            "text/plain": [
              "     id  ... availability_365\n",
              "0  2539  ...              365\n",
              "1  2595  ...              355\n",
              "2  3647  ...              365\n",
              "4  5022  ...                0\n",
              "6  5121  ...                0\n",
              "\n",
              "[5 rows x 16 columns]"
            ]
          },
          "metadata": {
            "tags": []
          },
          "execution_count": 30
        }
      ]
    },
    {
      "cell_type": "markdown",
      "metadata": {
        "id": "gPcP4IqJ2MSS"
      },
      "source": [
        "The following boxplot shows the distribution of the listings with less than 50 reviews. The median appears to be ~ 110."
      ]
    },
    {
      "cell_type": "code",
      "metadata": {
        "id": "ZhOTmRX1wdUr",
        "outputId": "8c8bb0fc-1688-4cf5-ef0e-6e57f12c0c28",
        "colab": {
          "base_uri": "https://localhost:8080/",
          "height": 266
        }
      },
      "source": [
        "sns.boxplot(y='price', data= Less_Reviews_df, showfliers=False )\n"
      ],
      "execution_count": null,
      "outputs": [
        {
          "output_type": "execute_result",
          "data": {
            "text/plain": [
              "<matplotlib.axes._subplots.AxesSubplot at 0x7f7aaa7372e8>"
            ]
          },
          "metadata": {
            "tags": []
          },
          "execution_count": 47
        },
        {
          "output_type": "display_data",
          "data": {
            "image/png": "[encoded data removed]",
            "text/plain": [
              "<Figure size 432x288 with 1 Axes>"
            ]
          },
          "metadata": {
            "tags": []
          }
        }
      ]
    },
    {
      "cell_type": "markdown",
      "metadata": {
        "id": "974uWfpj2ZbN"
      },
      "source": [
        "The following boxplot shows the distribution of the listings with more than 50 reviews. The median appears to be ~ 100."
      ]
    },
    {
      "cell_type": "code",
      "metadata": {
        "id": "zKzSfest1iEB",
        "outputId": "81e03581-f415-41f6-842e-07067c405aa3",
        "colab": {
          "base_uri": "https://localhost:8080/",
          "height": 266
        }
      },
      "source": [
        "sns.boxplot(y='price', data= More_Reviews_df, showfliers=False )"
      ],
      "execution_count": null,
      "outputs": [
        {
          "output_type": "execute_result",
          "data": {
            "text/plain": [
              "<matplotlib.axes._subplots.AxesSubplot at 0x7f7aa9ee70b8>"
            ]
          },
          "metadata": {
            "tags": []
          },
          "execution_count": 44
        },
        {
          "output_type": "display_data",
          "data": {
            "image/png": "[encoded data removed]",
            "text/plain": [
              "<Figure size 432x288 with 1 Axes>"
            ]
          },
          "metadata": {
            "tags": []
          }
        }
      ]
    },
    {
      "cell_type": "markdown",
      "metadata": {
        "id": "j4jpgzBM2gDZ"
      },
      "source": [
        "The following boxplot shows the distribution of the listings with no reviews. The median appears to be ~ 120."
      ]
    },
    {
      "cell_type": "code",
      "metadata": {
        "id": "KrMEbytw1jZF",
        "outputId": "dee4928b-8ed1-4990-98da-7a0c4bf5a524",
        "colab": {
          "base_uri": "https://localhost:8080/",
          "height": 266
        }
      },
      "source": [
        "sns.boxplot(y='price', data= No_Reviews_df, showfliers=False )"
      ],
      "execution_count": null,
      "outputs": [
        {
          "output_type": "execute_result",
          "data": {
            "text/plain": [
              "<matplotlib.axes._subplots.AxesSubplot at 0x7f7aaa1da278>"
            ]
          },
          "metadata": {
            "tags": []
          },
          "execution_count": 46
        },
        {
          "output_type": "display_data",
          "data": {
            "image/png": "[encoded data removed]",
            "text/plain": [
              "<Figure size 432x288 with 1 Axes>"
            ]
          },
          "metadata": {
            "tags": []
          }
        }
      ]
    },
    {
      "cell_type": "markdown",
      "metadata": {
        "id": "2lIFawZoESQb"
      },
      "source": [
        "*Findings*\n",
        "\n",
        "From this analysis, it appears that statistical significance exists between the means of listings with over 50 reviews and those with less than 50. With 95% confidence, the difference in the means will be between ~31 and ~24, indicating that listings with more reviews are anywhere between 19% and 15% less expensive. \n",
        "\n",
        "Therefore, our hypothesis was proven wrong and we must re-evaluate why this may be. We also need to re-think what we would do in a future analysis. \n",
        "\n",
        "1) Ideally, for future analysis, we would want to get the actual average rating for each listing instead of the number of reviews for each. One possible explanation is that people are more tempted to leave negative reviews than positive ones, and therefore the price is lower for the listings with the most reviews.  \n",
        "\n",
        "2) Originally, we hypothesized that with the increased effect of \"brand recognition\" that a listing would benefit from more exposure and reviews, an owner could charge a higher price. The data has shown that this hypothesis has been proven false. It is possible that prices might have a negative correlation with increased reviews. \n",
        "\n",
        "3) Another factor we would need to check is the number of nights actually booked. It is possible that listings with high prices are not getting reviews because these listings are not getting booked at all! Thus, Airbnb would not be making any profit on it. It is therefore possible that lower prices actually will generate more reviews and this was the fallacy in our original hypothesis. "
      ]
    }
  ]
}